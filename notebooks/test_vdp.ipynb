{
 "cells": [
  {
   "cell_type": "code",
   "execution_count": 7,
   "metadata": {
    "execution": {
     "iopub.execute_input": "2020-12-06T17:58:37.793499Z",
     "iopub.status.busy": "2020-12-06T17:58:37.793213Z",
     "iopub.status.idle": "2020-12-06T17:58:39.233963Z",
     "shell.execute_reply": "2020-12-06T17:58:39.231426Z",
     "shell.execute_reply.started": "2020-12-06T17:58:37.793464Z"
    }
   },
   "outputs": [
    {
     "name": "stdout",
     "output_type": "stream",
     "text": [
      "        _      ________  ___  ___ \n",
      "  ___ _(_)__  / __/ __ \\/ _ \\/ _ |\n",
      " / _ `/ / _ \\_\\ \\/ /_/ / // / __ |\n",
      " \\_, /_/_//_/___/\\____/____/_/ |_|\n",
      "/___/                version 0.9.0\n",
      "\n",
      " * Assuming architecture SM_61\n",
      " * Detected available shared memory per SM: 49152 bytes\n",
      " * System of coupled ODEs:\n",
      "\td(x0)/dt\t = y0\n",
      "\td(y0)/dt\t = mu * (1.0 - x0*x0)*y0-x0+a0*sin(omega*time)\n",
      "\td(time)/dt\t = 1.0\n",
      " * Observed variables indices: [0 1 2]\n",
      " * Model files created in MODELTEST\n",
      " * Relative tolerances file created\n",
      " * Absolute tolerances file created\n",
      " * Max internal steps file created\n",
      "[t] Files creation required 0.006537 seconds\n",
      " * Checking out ginSODA's integration files, please wait...\n",
      " * ginSODA simulator successfully built.\n",
      "[t] Compilation completed in 0.002814 seconds\n",
      " * Using shared memory\n",
      " * Launching job: 512 threads subdivided into 16 blocks\n",
      " * Launching model in MODELTEST\n",
      "[t] Simulation completed in 1.366553 seconds\n",
      "[t] Overall execution completed in 1.390466 seconds\n"
     ]
    }
   ],
   "source": [
    "%matplotlib inline\n",
    "from ginsoda import *\n",
    "import numpy as np\n",
    "import matplotlib.pyplot as plt\n",
    "\n",
    "# Example of Enzyme Kinetics \n",
    "GS = ginSetup()\n",
    "GS.add_variables([\"x0\",\"y0\",\"time\"])\n",
    "GS.add_parameters([\"mu\", \"a0\", \"omega\"])\n",
    "GS.add_equations([\n",
    "    \"y0\",       \n",
    "    \"mu * (1.0 - x0*x0)*y0-x0+a0*sin(omega*time)\",\n",
    "    \"1.0\"])        \n",
    "GS.set_model_dir(\"MODELTEST\")\n",
    "GS.set_output_dir(\"OUTPUTDIR\")\n",
    "GS.set_output_prefix(\"PREFIX\")\n",
    "GS.check_reactions()\t\n",
    "GS.force_rebuild=False\n",
    "\n",
    "THREADS = 512\n",
    "\n",
    "f = 20.0\n",
    "parameters = []\n",
    "\n",
    "for i in range(THREADS):\n",
    "    parameters.append([8.53, 1.2, 2.0*np.pi/f])\n",
    "\n",
    "initial_values = []\n",
    "\n",
    "for i in range(THREADS):\n",
    "    initial_values.append([i/THREADS,0.0,0.0])\n",
    "\n",
    "time_instants  = np.arange(50)* f\n",
    "atol_vector    = [[1e-6]]*THREADS\n",
    "rtol \t\t   = 1e-4\n",
    "max_steps      = 500\n",
    "\n",
    "# GS.estimate_memory_requirements(THREADS, time_instants)\n",
    "#exit()\n",
    "\n",
    "#GS._use_shared_memory = True\n",
    "\n",
    "all_dynamics = GS.run(\n",
    "    lsoda_settings={'max_steps': max_steps, 'atol_vector':atol_vector, 'rtol': rtol},\n",
    "    parameters=parameters, \n",
    "    initial_values=initial_values,\n",
    "    time_instants=time_instants,\t\t\n",
    "    no_simulation=False\n",
    ")"
   ]
  },
  {
   "cell_type": "code",
   "execution_count": null,
   "metadata": {},
   "outputs": [],
   "source": []
  }
 ],
 "metadata": {
  "kernelspec": {
   "display_name": "Python 2",
   "language": "python",
   "name": "python2"
  },
  "language_info": {
   "codemirror_mode": {
    "name": "ipython",
    "version": 2
   },
   "file_extension": ".py",
   "mimetype": "text/x-python",
   "name": "python",
   "nbconvert_exporter": "python",
   "pygments_lexer": "ipython2",
   "version": "2.7.17"
  }
 },
 "nbformat": 4,
 "nbformat_minor": 4
}
